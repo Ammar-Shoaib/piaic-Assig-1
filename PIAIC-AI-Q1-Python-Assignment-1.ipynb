{
 "cells": [
  {
   "cell_type": "code",
   "execution_count": 1,
   "metadata": {},
   "outputs": [],
   "source": [
    "#   ASSIGNMENT Q1."
   ]
  },
  {
   "cell_type": "code",
   "execution_count": 4,
   "metadata": {},
   "outputs": [
    {
     "name": "stdout",
     "output_type": "stream",
     "text": [
      "Enter radius: .5\n",
      "Area of circle with radius .5 is 0.7855 meter-square.\n"
     ]
    }
   ],
   "source": [
    "#1. Calculate area of a circle.\n",
    "radius = input(\"Enter radius: \")\n",
    "pi = 3.142\n",
    "area = pi * float(radius) * float(radius)\n",
    "print(\"Area of circle with radius \" + str(radius) + \" is \" + str(area) + \" meter-square.\")"
   ]
  },
  {
   "cell_type": "code",
   "execution_count": 9,
   "metadata": {},
   "outputs": [
    {
     "name": "stdout",
     "output_type": "stream",
     "text": [
      "Enter number: 0\n",
      "Number is zero\n"
     ]
    }
   ],
   "source": [
    "#2. Check if entered number is poitive, negative or zero.\n",
    "number = input(\"Enter number: \")\n",
    "if int(number) > 0:\n",
    "    print(\"Number is positive.\")\n",
    "elif int(number) < 0:\n",
    "    print(\"Number is negative.\")\n",
    "else:\n",
    "    print(\"Number is zero\")"
   ]
  },
  {
   "cell_type": "code",
   "execution_count": 3,
   "metadata": {},
   "outputs": [
    {
     "name": "stdout",
     "output_type": "stream",
     "text": [
      "Enter Numerator: 5\n",
      "Enter Denominator: 2\n",
      "Number 5 is not completely divisible by 2\n"
     ]
    }
   ],
   "source": [
    "#3. Divisibility check of two numbers.\n",
    "num = input(\"Enter Numerator: \")\n",
    "den = input(\"Enter Denominator: \")\n",
    "if float(num) % float(den) == 0:\n",
    "    print(\"Number \" + num + \" is completely divisible by \" + den)\n",
    "else:\n",
    "    print(\"Number \" + num + \" is not completely divisible by \" + den)"
   ]
  },
  {
   "cell_type": "code",
   "execution_count": 29,
   "metadata": {},
   "outputs": [
    {
     "name": "stdout",
     "output_type": "stream",
     "text": [
      "Enter start date: 28/09/2005\n",
      "Enter final date: 21/12/2012\n",
      "There are 2641 days between 28/09/2005 and 21/12/2012\n"
     ]
    }
   ],
   "source": [
    "#4. Days Calculator.\n",
    "from datetime import datetime\n",
    "s_date= input(\"Enter start date: \")\n",
    "f_date= input(\"Enter final date: \")\n",
    "date_format = \"%d/%m/%Y\"\n",
    "a = datetime.strptime(s_date, date_format)\n",
    "b = datetime.strptime(f_date, date_format)\n",
    "delta = b - a\n",
    "print(\"There are \" + str(delta.days) + \" days between \" + str(s_date) + \" and \" + str(f_date))"
   ]
  },
  {
   "cell_type": "code",
   "execution_count": 10,
   "metadata": {},
   "outputs": [
    {
     "name": "stdout",
     "output_type": "stream",
     "text": [
      "Enter radius of sphere: 1\n",
      "Volume of sphere with radius 1 is 4.189333333333333\n"
     ]
    }
   ],
   "source": [
    "#5. Calculate volume of sphere.\n",
    "radius = input(\"Enter radius of sphere: \")\n",
    "pi = 3.142\n",
    "volume = (4/3) * pi * float(radius) * float(radius) * float(radius)\n",
    "print(\"Volume of sphere with radius \" + radius + \" is \" + str(volume))"
   ]
  },
  {
   "cell_type": "code",
   "execution_count": 23,
   "metadata": {},
   "outputs": [
    {
     "name": "stdout",
     "output_type": "stream",
     "text": [
      "Enter String: hi\n",
      "Number of copies you want to make: 3\n",
      "hihihi\n"
     ]
    }
   ],
   "source": [
    "#6. Copy string n times.\n",
    "strng = input(\"Enter String: \")\n",
    "num_of_copies = input(\"Number of copies you want to make: \")\n",
    "print(strng * int(num_of_copies))"
   ]
  },
  {
   "cell_type": "code",
   "execution_count": 25,
   "metadata": {},
   "outputs": [
    {
     "name": "stdout",
     "output_type": "stream",
     "text": [
      "Enter number: 23\n",
      "Number is odd.\n"
     ]
    }
   ],
   "source": [
    "#7. Check if number is even or odd.\n",
    "num = input(\"Enter number: \")\n",
    "if int(num) % 2 == 0:\n",
    "    print(\"Number is even.\")\n",
    "else:\n",
    "    print(\"Number is odd.\")"
   ]
  },
  {
   "cell_type": "code",
   "execution_count": 34,
   "metadata": {},
   "outputs": [
    {
     "name": "stdout",
     "output_type": "stream",
     "text": [
      "Enter letter: x\n",
      "Letter x is not vowel.\n"
     ]
    }
   ],
   "source": [
    "#8. Vowel tester.\n",
    "letter = input(\"Enter letter: \")\n",
    "if letter == \"a\" or letter == \"e\" or letter == \"o\" or letter == \"i\" or letter == \"u\" or letter == \"A\" or letter == \"E\" or letter == \"O\" or letter == \"I\" or letter == \"U\":\n",
    "    print(\"Letter \" + letter + \" is vowel.\")\n",
    "else:\n",
    "    print(\"Letter \" + letter + \" is not vowel.\")"
   ]
  },
  {
   "cell_type": "code",
   "execution_count": 36,
   "metadata": {},
   "outputs": [
    {
     "name": "stdout",
     "output_type": "stream",
     "text": [
      "Enter base: 4\n",
      "Enter height4\n",
      "Area of triangle with base 4 and height 4 is 8.0\n"
     ]
    }
   ],
   "source": [
    "#9. Triangle area.\n",
    "base = input(\"Enter base: \")\n",
    "height = input(\"Enter height\")\n",
    "area = (1 / 2) * int(base) * int(height)\n",
    "print(\"Area of triangle with base \" + base + \" and height \" + height + \" is \" + str(area))"
   ]
  },
  {
   "cell_type": "code",
   "execution_count": 3,
   "metadata": {},
   "outputs": [
    {
     "name": "stdout",
     "output_type": "stream",
     "text": [
      "Enter amount: 10000\n",
      "Enter rate of interest: 0.1\n",
      "Enter number of years for investment: 5\n",
      "16105.1\n"
     ]
    }
   ],
   "source": [
    "#10. Calculate interest.\n",
    "amount = input(\"Enter amount: \")\n",
    "amount = float(amount)\n",
    "rate_of_interest = input(\"Enter rate of interest: \")\n",
    "years = input(\"Enter number of years for investment: \")\n",
    "for x in range(5):\n",
    "    amount += float(amount) * float(rate_of_interest)\n",
    "print(str(amount))"
   ]
  },
  {
   "cell_type": "code",
   "execution_count": 5,
   "metadata": {},
   "outputs": [
    {
     "name": "stdout",
     "output_type": "stream",
     "text": [
      "Enter Co-ordinate for x1: 2\n",
      "Enter Co-ordinate for x2: 4\n",
      "Enter Co-ordinate for y1: 4\n",
      "Enter Co-ordinate for y2: 4\n",
      "Distance between point (2, 4) and (4, 4) is 1.4142135623730951\n"
     ]
    }
   ],
   "source": [
    "#11. Euclidean distance.\n",
    "x1 = input(\"Enter Co-ordinate for x1: \")\n",
    "x2 = input(\"Enter Co-ordinate for x2: \")\n",
    "y1 = input(\"Enter Co-ordinate for y1: \")\n",
    "y2 = input(\"Enter Co-ordinate for y2: \")\n",
    "import math\n",
    "distance = math.sqrt((float(x2) -float(x1)) + (float(y2) - float(y1)))\n",
    "print(\"Distance between point (\" + x1 + \", \" + y1 + \") and (\" + x2 + \", \" + y2 + \") is \" + str(distance))"
   ]
  },
  {
   "cell_type": "code",
   "execution_count": 10,
   "metadata": {},
   "outputs": [
    {
     "name": "stdout",
     "output_type": "stream",
     "text": [
      "Enter height in feet: 5\n",
      "There are 152.4 cm in 5 ft\n"
     ]
    }
   ],
   "source": [
    "#12. Feet to Centimeter converter.\n",
    "ft = input(\"Enter height in feet: \")\n",
    "cen = float(ft) * 30.48\n",
    "print((\"There are \" + str(cen) + \" cm in \" + ft + \" ft\"))"
   ]
  },
  {
   "cell_type": "code",
   "execution_count": 26,
   "metadata": {},
   "outputs": [
    {
     "name": "stdout",
     "output_type": "stream",
     "text": [
      "Enter height in cm: 180\n",
      "Enter weight in kg: 75\n",
      "180\n",
      "75\n",
      "Your BMI is 23.148148148148145\n"
     ]
    }
   ],
   "source": [
    "#13. BMI Calculator.\n",
    "height = input(\"Enter height in cm: \")\n",
    "#height = float(height) * 0.3937\n",
    "weight = input(\"Enter weight in kg: \")\n",
    "#weight = float(weight) * 2.2046\n",
    "bmi = float(weight) / (float(height) * float(height))\n",
    "bmi = bmi * 10000\n",
    "print(height)\n",
    "print(weight)\n",
    "print(\"Your BMI is \" + str(bmi))"
   ]
  },
  {
   "cell_type": "code",
   "execution_count": 46,
   "metadata": {},
   "outputs": [
    {
     "name": "stdout",
     "output_type": "stream",
     "text": [
      "Enter value of n: 5\n",
      "The sum of first 5 integers is 15\n"
     ]
    }
   ],
   "source": [
    "#14. Sum of n positive integers.\n",
    "n = input(\"Enter value of n: \")\n",
    "n = int(n)\n",
    "i = 2\n",
    "k = 1\n",
    "for x in range(2, n + 1):\n",
    "    k += x\n",
    "print(\"The sum of first \" + str(n) + \" integers is \" + str(k))"
   ]
  },
  {
   "cell_type": "code",
   "execution_count": 2,
   "metadata": {},
   "outputs": [
    {
     "name": "stdout",
     "output_type": "stream",
     "text": [
      "Enter a four digit Number: 3356\n",
      "17\n"
     ]
    }
   ],
   "source": [
    "#15. Digits sum of a number.\n",
    "a = input(\"Enter a four digit Number: \")\n",
    "if len(a) == 4:\n",
    "    b = int(a[:1])\n",
    "    c = int(a[1:2])\n",
    "    d = int(a[2:3])\n",
    "    e = int(a[3:4])\n",
    "    f = b + c + d + e\n",
    "    print(f)\n",
    "else:\n",
    "    print(\"ERROR: Please enter again\")\n",
    "\n"
   ]
  },
  {
   "cell_type": "code",
   "execution_count": 7,
   "metadata": {},
   "outputs": [
    {
     "name": "stdout",
     "output_type": "stream",
     "text": [
      "Enter decimal number: 6\n",
      "Binary Conversion is 110"
     ]
    }
   ],
   "source": [
    "#16. Decimal to binary converter.\n",
    "a = input(\"Enter decimal number: \")\n",
    "a = int(a)\n",
    "print(\"Binary Conversion is \", end='')\n",
    "while a != 0:\n",
    "        a = a // 2\n",
    "        b = a % 2\n",
    "        print((b), end='')"
   ]
  },
  {
   "cell_type": "code",
   "execution_count": 12,
   "metadata": {},
   "outputs": [
    {
     "name": "stdout",
     "output_type": "stream",
     "text": [
      "Enter binary number: 1001\n",
      "Binary to decimal conversion is 10"
     ]
    }
   ],
   "source": [
    "#17. Binary to Decimal Converter.\n",
    "bin_num = input(\"Enter binary number: \")\n",
    "a = 0\n",
    "k = 0\n",
    "b = 0\n",
    "for z in range(len(strng) - 1, -1, -1):\n",
    "     y = strng[z]\n",
    "     a = int(y) * pow(2, k)\n",
    "     k = k + 1\n",
    "     b = a + b\n",
    "print(\"Binary to decimal conversion is \" + str(b), end='')"
   ]
  },
  {
   "cell_type": "code",
   "execution_count": 2,
   "metadata": {},
   "outputs": [
    {
     "name": "stdout",
     "output_type": "stream",
     "text": [
      "Enter text: QuickBrownFoxJumpsOverTheDog\n",
      "Vowels:  9\n",
      "Consonants 19\n"
     ]
    }
   ],
   "source": [
    "#18. Vowel and consonants counter.\n",
    "strng = input(\"Enter text: \")\n",
    "v = 0\n",
    "c = 0\n",
    "for z in strng:\n",
    "    if z == 'A'or z == 'a'or z == 'E'or z == 'e'or z == 'I'or z == 'i'or z == 'O'or z == 'o'or z == 'U'or z == 'u':\n",
    "        v = v + 1\n",
    "    else:\n",
    "        c = c + 1\n",
    "print(\"Vowels: \", v)\n",
    "print(\"Consonants\", c)"
   ]
  },
  {
   "cell_type": "code",
   "execution_count": 18,
   "metadata": {},
   "outputs": [
    {
     "name": "stdout",
     "output_type": "stream",
     "text": [
      "Enter text: civic\n",
      "The text civic is Palindrom\n"
     ]
    }
   ],
   "source": [
    "#19. Palindrome tester.\n",
    "strng = input(\"Enter text: \")\n",
    "n = len(strng) - 1\n",
    "k = 0\n",
    "for z in range(len(strng) - 1, -1, -1):\n",
    "    if strng[z] == strng[n - z]:\n",
    "        k = k + 1\n",
    "if(k == len(strng)):\n",
    "    print(\"The text \" + strng + \" is Palindrom\")\n",
    "else:\n",
    "    print(\"The text \" + strng + \" is not Palindrom\")"
   ]
  },
  {
   "cell_type": "code",
   "execution_count": 28,
   "metadata": {},
   "outputs": [
    {
     "name": "stdout",
     "output_type": "stream",
     "text": [
      "Enter text: Python 3.2\n",
      "Alphabets = 6\n",
      "Digits = 2\n",
      "Special characters = 2\n"
     ]
    }
   ],
   "source": [
    "#20. Count Alphabets, Numbers, Special Characters\n",
    "txt = input(\"Enter text: \")\n",
    "digits = alpha = special = 0\n",
    "for i in range(len(txt)):\n",
    "    if(txt[i].isalpha()):\n",
    "        alpha = alpha + 1\n",
    "    elif(txt[i].isdigit()):\n",
    "        digits = digits + 1\n",
    "    else:\n",
    "        special = special + 1\n",
    "print(\"Alphabets = \" + str(alpha) + \"\\nDigits = \" + str(digits) + \"\\nSpecial characters = \" + str(special))"
   ]
  },
  {
   "cell_type": "code",
   "execution_count": 6,
   "metadata": {},
   "outputs": [
    {
     "name": "stdout",
     "output_type": "stream",
     "text": [
      "\n",
      "\n",
      "*\n",
      "\n",
      "**\n",
      "\n",
      "***\n",
      "\n",
      "****\n",
      "\n",
      "*****\n",
      "\n",
      "******\n",
      "\n",
      "*****\n",
      "\n",
      "****\n",
      "\n",
      "***\n",
      "\n",
      "**\n",
      "\n",
      "*\n",
      "\n"
     ]
    }
   ],
   "source": [
    "#21. Write a program to print pattern.\n",
    "for x in range(6):\n",
    "    for y in range(x):\n",
    "        print(\"*\", end='')\n",
    "    print(\"\\n\")\n",
    "for z in range(6,0,-1):\n",
    "    for w in range(z):\n",
    "        print(\"*\", end='')\n",
    "    print(\"\\n\")"
   ]
  },
  {
   "cell_type": "code",
   "execution_count": null,
   "metadata": {},
   "outputs": [],
   "source": []
  },
  {
   "cell_type": "code",
   "execution_count": 11,
   "metadata": {},
   "outputs": [
    {
     "name": "stdout",
     "output_type": "stream",
     "text": [
      "\n",
      "\n",
      "1\n",
      "\n",
      "12\n",
      "\n",
      "123\n",
      "\n",
      "1234\n",
      "\n",
      "12345\n",
      "\n",
      "1234\n",
      "\n",
      "123\n",
      "\n",
      "12\n",
      "\n"
     ]
    }
   ],
   "source": [
    "#22. Write a program to print pattern.\n",
    "for x in range(1, 6):\n",
    "    for y in range(1, x):\n",
    "        print(y, end='')\n",
    "    print(\"\\n\")\n",
    "for z in range(6,2,-1):\n",
    "    for w in range(1, z):\n",
    "        print(w, end='')\n",
    "    print(\"\\n\")"
   ]
  },
  {
   "cell_type": "code",
   "execution_count": 78,
   "metadata": {},
   "outputs": [
    {
     "name": "stdout",
     "output_type": "stream",
     "text": [
      "\n",
      "\n",
      "1\n",
      "\n",
      "22\n",
      "\n",
      "333\n",
      "\n",
      "4444\n",
      "\n",
      "55555\n",
      "\n",
      "666666\n",
      "\n",
      "7777777\n",
      "\n",
      "88888888\n",
      "\n",
      "999999999\n",
      "\n"
     ]
    }
   ],
   "source": [
    "#23. Write a program to print pattern.\n",
    "for x in range(10):\n",
    "    for y in range(x):\n",
    "        print(x, end='')\n",
    "    print(\"\\n\")\n"
   ]
  }
 ],
 "metadata": {
  "kernelspec": {
   "display_name": "Python 3",
   "language": "python",
   "name": "python3"
  },
  "language_info": {
   "codemirror_mode": {
    "name": "ipython",
    "version": 3
   },
   "file_extension": ".py",
   "mimetype": "text/x-python",
   "name": "python",
   "nbconvert_exporter": "python",
   "pygments_lexer": "ipython3",
   "version": "3.7.3"
  }
 },
 "nbformat": 4,
 "nbformat_minor": 2
}
