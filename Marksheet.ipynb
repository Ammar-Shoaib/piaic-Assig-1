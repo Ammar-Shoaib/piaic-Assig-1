{
 "cells": [
  {
   "cell_type": "markdown",
   "metadata": {},
   "source": [
    "    #MARKSHEET ASSIGNMENT#"
   ]
  },
  {
   "cell_type": "code",
   "execution_count": 6,
   "metadata": {},
   "outputs": [
    {
     "name": "stdout",
     "output_type": "stream",
     "text": [
      "Enter Marks: 99\n",
      "Enter Marks: 99\n",
      "Enter Marks: 99\n",
      "Enter Marks: 99\n",
      "Enter Marks: 99\n",
      "--------------------MARKSHEET------------------------\n",
      "ENGLISH:\tOBT: 99\tTOTAL: 100\n",
      "MATHS:\t\tOBT: 99\tTOTAL: 100\n",
      "COMPUTER:\tOBT: 99\tTOTAL: 100\n",
      "PHYSICS:\tOBT: 99\tTOTAL: 100\n",
      "CHEMISTRY:\tOBT: 99\tTOTAL: 100\n",
      "\n",
      "PERCENTAGE: 99.0%\n",
      "Passed with A+ Grade.\n"
     ]
    }
   ],
   "source": [
    "#Create a marksheet and save it into a file..\n",
    "eng = input(\"Enter Marks: \")\n",
    "math = input(\"Enter Marks: \")\n",
    "ics = input(\"Enter Marks: \")\n",
    "phy = input(\"Enter Marks: \")\n",
    "chem = input(\"Enter Marks: \")\n",
    "total = int(eng) + int(math) + int(ics) + int(phy) + int(chem)\n",
    "avg = total / 5\n",
    "with open(\"Marksheet.txt\", \"w\") as f:\n",
    "    f.write(\"--------------------MARKSHEET------------------------\")\n",
    "    f.write(\"\\nENGLISH:\\tOBT: \" + str(eng) + \"\\tTOTAL: \" + \"100\")\n",
    "    f.write(\"\\nMATHS:\\t\\tOBT: \" + str(math) + \"\\tTOTAL: \" + \"100\")\n",
    "    f.write(\"\\nCOMPUTER:\\tOBT: \" + str(ics) + \"\\tTOTAL: \" + \"100\")\n",
    "    f.write(\"\\nPHYSICS:\\tOBT: \" + str(phy) + \"\\tTOTAL: \" + \"100\")\n",
    "    f.write(\"\\nCHEMISTRY:\\tOBT: \" + str(chem) + \"\\tTOTAL: \" + \"100\")\n",
    "    f.write(\"\\n\\nPERCENTAGE: \" + str(avg) + \"%\")\n",
    "    if avg >= 90:\n",
    "        f.write(\"\\nPassed with A+ Grade.\")\n",
    "    elif avg < 90 and avg >=80:\n",
    "        f.write(\"\\nPassed with A Grade.\")\n",
    "    elif avg < 80 and avg >= 70:\n",
    "        f.write(\"\\nPassed with B Grade.\")\n",
    "    elif avg < 70 and avg >= 60:\n",
    "        f.write(\"\\nPassed with C Grade.\")\n",
    "    elif avg < 60:\n",
    "        f.write(\"\\nFailed\")\n",
    "with open(\"Marksheet.txt\", \"r\") as f:\n",
    "    text_of_file = f.read()\n",
    "    print(text_of_file)"
   ]
  }
 ],
 "metadata": {
  "kernelspec": {
   "display_name": "Python 3",
   "language": "python",
   "name": "python3"
  },
  "language_info": {
   "codemirror_mode": {
    "name": "ipython",
    "version": 3
   },
   "file_extension": ".py",
   "mimetype": "text/x-python",
   "name": "python",
   "nbconvert_exporter": "python",
   "pygments_lexer": "ipython3",
   "version": "3.7.3"
  }
 },
 "nbformat": 4,
 "nbformat_minor": 2
}
