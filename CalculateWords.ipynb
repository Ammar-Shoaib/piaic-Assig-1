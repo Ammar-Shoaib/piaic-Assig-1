{
 "cells": [
  {
   "cell_type": "code",
   "execution_count": 2,
   "metadata": {},
   "outputs": [
    {
     "name": "stdout",
     "output_type": "stream",
     "text": [
      "Spaces: 276\n",
      "Lines: 26\n",
      "Tabs: 0\n",
      "Non-space characters: 1347\n",
      "Paragraphs: 4\n",
      "Words: 299\n"
     ]
    }
   ],
   "source": [
    "#Write a program to read txt file and count number of words, lines, paragraphs, nonspace characters tabs, spaces.\n",
    "with open(\"CalcWords.txt\") as f:\n",
    "    a = f.read()\n",
    "k = 0\n",
    "b = 1\n",
    "c = 0\n",
    "d = 0\n",
    "e = 0\n",
    "z = 0\n",
    "for i in range (0,len(a)):\n",
    "    if(a[i] == \" \"):\n",
    "        k = k + 1\n",
    "    if(a[i] == \"\\n\"):\n",
    "        b = b + 1\n",
    "    if(a[i] == \"\\t\"):\n",
    "        c = c + 1\n",
    "    if(a[i].isdigit or a[i].isalphabet):\n",
    "        d = d + 1\n",
    "f = a.split(\"\\n\\n\")\n",
    "from collections import Counter\n",
    "j = (Counter(f))\n",
    "for i, v in j.items():\n",
    "    e = e + v\n",
    "g = a.split()\n",
    "h = Counter(g)\n",
    "for i, v in h.items():\n",
    "    z = z + v\n",
    "\n",
    "print(\"Spaces:\", k)\n",
    "print(\"Lines:\", b)\n",
    "print(\"Tabs:\", c)\n",
    "print(\"Non-space characters:\", d - k - b)\n",
    "print(\"Paragraphs:\", e)\n",
    "print(\"Words:\", z)"
   ]
  }
 ],
 "metadata": {
  "kernelspec": {
   "display_name": "Python 3",
   "language": "python",
   "name": "python3"
  },
  "language_info": {
   "codemirror_mode": {
    "name": "ipython",
    "version": 3
   },
   "file_extension": ".py",
   "mimetype": "text/x-python",
   "name": "python",
   "nbconvert_exporter": "python",
   "pygments_lexer": "ipython3",
   "version": "3.7.3"
  }
 },
 "nbformat": 4,
 "nbformat_minor": 2
}
